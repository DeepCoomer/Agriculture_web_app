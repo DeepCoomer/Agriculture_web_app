{
 "cells": [
  {
   "cell_type": "code",
   "execution_count": 2,
   "id": "c9f1db7e",
   "metadata": {},
   "outputs": [],
   "source": [
    "# Load modules\n",
    "from pandas import read_csv\n",
    "from sklearn.model_selection import train_test_split\n",
    "from sklearn.svm import SVC\n",
    "import pandas as pd"
   ]
  },
  {
   "cell_type": "code",
   "execution_count": 4,
   "id": "05f7bb88",
   "metadata": {},
   "outputs": [],
   "source": [
    "# Load dataset\n",
    "df = pd.read_csv(r\"C:\\Users\\DEEP COOMER\\Desktop\\Ml Webapp\\iris.csv\")"
   ]
  },
  {
   "cell_type": "code",
   "execution_count": 5,
   "id": "8b4de9da",
   "metadata": {},
   "outputs": [],
   "source": [
    "# Split into training data and test data\n",
    "X = df[['sepal_length','sepal_width','petal_length','petal_width']]\n",
    "y = df['classification']"
   ]
  },
  {
   "cell_type": "code",
   "execution_count": 6,
   "id": "d2ffeb84",
   "metadata": {},
   "outputs": [],
   "source": [
    "# Create training and testing vars, It’s usually around 80/20 or 70/30.\n",
    "X_train, X_test, Y_train, Y_test = train_test_split(X, y, test_size=0.20, random_state=1)"
   ]
  },
  {
   "cell_type": "code",
   "execution_count": 7,
   "id": "4057081d",
   "metadata": {},
   "outputs": [
    {
     "data": {
      "text/plain": [
       "SVC(gamma='auto')"
      ]
     },
     "execution_count": 7,
     "metadata": {},
     "output_type": "execute_result"
    }
   ],
   "source": [
    "# Now we’ll fit the model on the training data\n",
    "model = SVC(gamma='auto')\n",
    "model.fit(X_train, Y_train)"
   ]
  },
  {
   "cell_type": "code",
   "execution_count": 8,
   "id": "defef3a1",
   "metadata": {},
   "outputs": [],
   "source": [
    "# Make predictions on validation dataset\n",
    "predictions = model.predict(X_test)"
   ]
  },
  {
   "cell_type": "code",
   "execution_count": 9,
   "id": "c274d880",
   "metadata": {},
   "outputs": [],
   "source": [
    "# Pickle model \n",
    "pd.to_pickle(model,r'C:\\Users\\DEEP COOMER\\Desktop\\Ml Webapp\\new_model.pickle')"
   ]
  },
  {
   "cell_type": "code",
   "execution_count": 10,
   "id": "91b7d78b",
   "metadata": {},
   "outputs": [],
   "source": [
    "# Unpickle model \n",
    "model = pd.read_pickle(r'C:\\Users\\DEEP COOMER\\Desktop\\Ml Webapp\\new_model.pickle') \n",
    "# read a pickle pd.read_pickle('model.pkl')"
   ]
  },
  {
   "cell_type": "code",
   "execution_count": 11,
   "id": "ace1487d",
   "metadata": {},
   "outputs": [
    {
     "name": "stdout",
     "output_type": "stream",
     "text": [
      "Enter sepal_length: 1\n",
      "Enter sepa_width: 1\n",
      "Enter petal_length: 11\n",
      "Enter petal_width: 1\n",
      "['Iris-virginica']\n"
     ]
    }
   ],
   "source": [
    "# Take input from user\n",
    "sepal_length = float(input(\"Enter sepal_length: \"))\n",
    "sepal_width = float(input(\"Enter sepa_width: \"))\n",
    "petal_length = float(input(\"Enter petal_length: \"))\n",
    "petal_width = float(input(\"Enter petal_width: \"))\n",
    "\n",
    "result = model.predict([[sepal_length,sepal_width,petal_length,petal_width]])  # input must be 2D array\n",
    "print(result)"
   ]
  },
  {
   "cell_type": "code",
   "execution_count": null,
   "id": "d1441766",
   "metadata": {},
   "outputs": [],
   "source": []
  }
 ],
 "metadata": {
  "kernelspec": {
   "display_name": "Python 3",
   "language": "python",
   "name": "python3"
  },
  "language_info": {
   "codemirror_mode": {
    "name": "ipython",
    "version": 3
   },
   "file_extension": ".py",
   "mimetype": "text/x-python",
   "name": "python",
   "nbconvert_exporter": "python",
   "pygments_lexer": "ipython3",
   "version": "3.8.8"
  }
 },
 "nbformat": 4,
 "nbformat_minor": 5
}
